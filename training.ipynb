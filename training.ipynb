{
 "cells": [
  {
   "cell_type": "code",
   "execution_count": 66,
   "metadata": {},
   "outputs": [],
   "source": [
    "import pandas as pd\n",
    "import numpy as np\n",
    "from sklearn.preprocessing import MinMaxScaler\n",
    "from tensorflow.keras.models import Sequential\n",
    "from tensorflow.keras.layers import LSTM, Dense\n",
    "from sklearn.metrics import mean_squared_error\n",
    "from sklearn.model_selection import train_test_split"
   ]
  },
  {
   "cell_type": "code",
   "execution_count": 67,
   "metadata": {},
   "outputs": [],
   "source": [
    "df = pd.read_csv(\"climate_change_indicators.csv\")"
   ]
  },
  {
   "cell_type": "code",
   "execution_count": 68,
   "metadata": {},
   "outputs": [],
   "source": [
    "time_series_df = df.iloc[:, 8:].values "
   ]
  },
  {
   "cell_type": "code",
   "execution_count": 69,
   "metadata": {},
   "outputs": [],
   "source": [
    "time_series_df = np.where(np.isnan(pd.to_numeric(time_series_df.ravel(), errors='coerce').reshape(time_series_df.shape)), 0, time_series_df)\n",
    "time_series_df = time_series_df.T\n",
    "time_series_df= time_series_df.astype(float)"
   ]
  },
  {
   "cell_type": "code",
   "execution_count": 70,
   "metadata": {},
   "outputs": [],
   "source": [
    "scaler = MinMaxScaler()\n",
    "time_series_df_scaled = scaler.fit_transform(time_series_df)"
   ]
  },
  {
   "cell_type": "code",
   "execution_count": 71,
   "metadata": {},
   "outputs": [],
   "source": [
    "X,y = [], []\n",
    "for i in range(1, len(time_series_df_scaled)):\n",
    "    X.append(time_series_df_scaled[i - 1, :])\n",
    "    y.append(time_series_df_scaled[i, 0])  # Predicting the first column (2022)\n",
    "\n",
    "X, y = np.array(X), np.array(y)"
   ]
  },
  {
   "cell_type": "code",
   "execution_count": 72,
   "metadata": {},
   "outputs": [],
   "source": [
    "X = np.reshape(X, (X.shape[0], 1, X.shape[1]))"
   ]
  },
  {
   "cell_type": "code",
   "execution_count": 73,
   "metadata": {},
   "outputs": [],
   "source": [
    "X_train, X_test, y_train, y_test = train_test_split(X, y, test_size=0.2, random_state=42)"
   ]
  },
  {
   "cell_type": "code",
   "execution_count": 74,
   "metadata": {},
   "outputs": [],
   "source": [
    "model = Sequential()\n",
    "model.add(LSTM(units=50, input_shape=(X.shape[1], X.shape[2])))\n",
    "model.add(Dense(units=1))"
   ]
  },
  {
   "cell_type": "code",
   "execution_count": 75,
   "metadata": {},
   "outputs": [],
   "source": [
    "model.compile(optimizer='adam', loss='mean_absolute_error')"
   ]
  },
  {
   "cell_type": "code",
   "execution_count": 76,
   "metadata": {},
   "outputs": [
    {
     "name": "stdout",
     "output_type": "stream",
     "text": [
      "Epoch 1/50\n",
      "2/2 [==============================] - 1s 297ms/step - loss: 0.5457 - val_loss: 0.1410\n",
      "Epoch 2/50\n",
      "2/2 [==============================] - 0s 33ms/step - loss: 0.1942 - val_loss: 0.2572\n",
      "Epoch 3/50\n",
      "2/2 [==============================] - 0s 21ms/step - loss: 0.1950 - val_loss: 0.2573\n",
      "Epoch 4/50\n",
      "2/2 [==============================] - 0s 21ms/step - loss: 0.1776 - val_loss: 0.1514\n",
      "Epoch 5/50\n",
      "2/2 [==============================] - 0s 24ms/step - loss: 0.1322 - val_loss: 0.1052\n",
      "Epoch 6/50\n",
      "2/2 [==============================] - 0s 20ms/step - loss: 0.1359 - val_loss: 0.1177\n",
      "Epoch 7/50\n",
      "2/2 [==============================] - 0s 18ms/step - loss: 0.1512 - val_loss: 0.1182\n",
      "Epoch 8/50\n",
      "2/2 [==============================] - 0s 16ms/step - loss: 0.1504 - val_loss: 0.1088\n",
      "Epoch 9/50\n",
      "2/2 [==============================] - 0s 18ms/step - loss: 0.1335 - val_loss: 0.1054\n",
      "Epoch 10/50\n",
      "2/2 [==============================] - 0s 24ms/step - loss: 0.1300 - val_loss: 0.1305\n",
      "Epoch 11/50\n",
      "2/2 [==============================] - 0s 15ms/step - loss: 0.1319 - val_loss: 0.1462\n",
      "Epoch 12/50\n",
      "2/2 [==============================] - 0s 15ms/step - loss: 0.1327 - val_loss: 0.1270\n",
      "Epoch 13/50\n",
      "2/2 [==============================] - 0s 16ms/step - loss: 0.1263 - val_loss: 0.1096\n",
      "Epoch 14/50\n",
      "2/2 [==============================] - 0s 16ms/step - loss: 0.1219 - val_loss: 0.1015\n",
      "Epoch 15/50\n",
      "2/2 [==============================] - 0s 16ms/step - loss: 0.1202 - val_loss: 0.1018\n",
      "Epoch 16/50\n",
      "2/2 [==============================] - 0s 15ms/step - loss: 0.1186 - val_loss: 0.1064\n",
      "Epoch 17/50\n",
      "2/2 [==============================] - 0s 16ms/step - loss: 0.1149 - val_loss: 0.1107\n",
      "Epoch 18/50\n",
      "2/2 [==============================] - 0s 15ms/step - loss: 0.1132 - val_loss: 0.1134\n",
      "Epoch 19/50\n",
      "2/2 [==============================] - 0s 15ms/step - loss: 0.1119 - val_loss: 0.1184\n",
      "Epoch 20/50\n",
      "2/2 [==============================] - 0s 15ms/step - loss: 0.1109 - val_loss: 0.1230\n",
      "Epoch 21/50\n",
      "2/2 [==============================] - 0s 16ms/step - loss: 0.1108 - val_loss: 0.1176\n",
      "Epoch 22/50\n",
      "2/2 [==============================] - 0s 15ms/step - loss: 0.1099 - val_loss: 0.1168\n",
      "Epoch 23/50\n",
      "2/2 [==============================] - 0s 15ms/step - loss: 0.1079 - val_loss: 0.1211\n",
      "Epoch 24/50\n",
      "2/2 [==============================] - 0s 17ms/step - loss: 0.1069 - val_loss: 0.1153\n",
      "Epoch 25/50\n",
      "2/2 [==============================] - 0s 15ms/step - loss: 0.1046 - val_loss: 0.1061\n",
      "Epoch 26/50\n",
      "2/2 [==============================] - 0s 15ms/step - loss: 0.1042 - val_loss: 0.1088\n",
      "Epoch 27/50\n",
      "2/2 [==============================] - 0s 14ms/step - loss: 0.1022 - val_loss: 0.1158\n",
      "Epoch 28/50\n",
      "2/2 [==============================] - 0s 17ms/step - loss: 0.1008 - val_loss: 0.1063\n",
      "Epoch 29/50\n",
      "2/2 [==============================] - 0s 15ms/step - loss: 0.0994 - val_loss: 0.1089\n",
      "Epoch 30/50\n",
      "2/2 [==============================] - 0s 16ms/step - loss: 0.0979 - val_loss: 0.1155\n",
      "Epoch 31/50\n",
      "2/2 [==============================] - 0s 16ms/step - loss: 0.0963 - val_loss: 0.1013\n",
      "Epoch 32/50\n",
      "2/2 [==============================] - 0s 18ms/step - loss: 0.0966 - val_loss: 0.1041\n",
      "Epoch 33/50\n",
      "2/2 [==============================] - 0s 15ms/step - loss: 0.0924 - val_loss: 0.1214\n",
      "Epoch 34/50\n",
      "2/2 [==============================] - 0s 20ms/step - loss: 0.0965 - val_loss: 0.1164\n",
      "Epoch 35/50\n",
      "2/2 [==============================] - 0s 17ms/step - loss: 0.0907 - val_loss: 0.1078\n",
      "Epoch 36/50\n",
      "2/2 [==============================] - 0s 17ms/step - loss: 0.0905 - val_loss: 0.1218\n",
      "Epoch 37/50\n",
      "2/2 [==============================] - 0s 14ms/step - loss: 0.0888 - val_loss: 0.1069\n",
      "Epoch 38/50\n",
      "2/2 [==============================] - 0s 15ms/step - loss: 0.0878 - val_loss: 0.1260\n",
      "Epoch 39/50\n",
      "2/2 [==============================] - 0s 15ms/step - loss: 0.0885 - val_loss: 0.1138\n",
      "Epoch 40/50\n",
      "2/2 [==============================] - 0s 28ms/step - loss: 0.0837 - val_loss: 0.1153\n",
      "Epoch 41/50\n",
      "2/2 [==============================] - 0s 19ms/step - loss: 0.0815 - val_loss: 0.1197\n",
      "Epoch 42/50\n",
      "2/2 [==============================] - 0s 16ms/step - loss: 0.0800 - val_loss: 0.1080\n",
      "Epoch 43/50\n",
      "2/2 [==============================] - 0s 16ms/step - loss: 0.0792 - val_loss: 0.1236\n",
      "Epoch 44/50\n",
      "2/2 [==============================] - 0s 15ms/step - loss: 0.0797 - val_loss: 0.1106\n",
      "Epoch 45/50\n",
      "2/2 [==============================] - 0s 15ms/step - loss: 0.0760 - val_loss: 0.1073\n",
      "Epoch 46/50\n",
      "2/2 [==============================] - 0s 16ms/step - loss: 0.0770 - val_loss: 0.1477\n",
      "Epoch 47/50\n",
      "2/2 [==============================] - 0s 15ms/step - loss: 0.0856 - val_loss: 0.1317\n",
      "Epoch 48/50\n",
      "2/2 [==============================] - 0s 15ms/step - loss: 0.0766 - val_loss: 0.1135\n",
      "Epoch 49/50\n",
      "2/2 [==============================] - 0s 16ms/step - loss: 0.0752 - val_loss: 0.1393\n",
      "Epoch 50/50\n",
      "2/2 [==============================] - 0s 15ms/step - loss: 0.0717 - val_loss: 0.1111\n",
      "1/1 [==============================] - 0s 13ms/step - loss: 0.1111\n",
      "Test Loss: 0.1111275777220726\n"
     ]
    }
   ],
   "source": [
    "model.fit(X_train, y_train, epochs=50, batch_size=32, validation_data=(X_test, y_test))\n",
    "# Evaluate the model\n",
    "loss = model.evaluate(X_test, y_test)\n",
    "print(f\"Test Loss: {loss}\")"
   ]
  }
 ],
 "metadata": {
  "kernelspec": {
   "display_name": "Python 3",
   "language": "python",
   "name": "python3"
  },
  "language_info": {
   "codemirror_mode": {
    "name": "ipython",
    "version": 3
   },
   "file_extension": ".py",
   "mimetype": "text/x-python",
   "name": "python",
   "nbconvert_exporter": "python",
   "pygments_lexer": "ipython3",
   "version": "3.11.8"
  }
 },
 "nbformat": 4,
 "nbformat_minor": 2
}

{
 "cells": [
  {
   "cell_type": "code",
   "execution_count": 53,
   "metadata": {},
   "outputs": [],
   "source": [
    "import pandas as pd\n",
    "import numpy as np\n",
    "from sklearn.preprocessing import MinMaxScaler\n",
    "from tensorflow.keras.models import Sequential\n",
    "from tensorflow.keras.layers import LSTM, Dense\n",
    "from sklearn.metrics import mean_squared_error\n",
    "from sklearn.model_selection import train_test_split"
   ]
  },
  {
   "cell_type": "code",
   "execution_count": 54,
   "metadata": {},
   "outputs": [],
   "source": [
    "df = pd.read_csv(\"climate_change_indicators.csv\")"
   ]
  },
  {
   "cell_type": "code",
   "execution_count": 55,
   "metadata": {},
   "outputs": [],
   "source": [
    "time_series_df = df.iloc[:, 8:].values "
   ]
  },
  {
   "cell_type": "code",
   "execution_count": 56,
   "metadata": {},
   "outputs": [],
   "source": [
    "time_series_df = np.where(np.isnan(pd.to_numeric(time_series_df.ravel(), errors='coerce').reshape(time_series_df.shape)), 0, time_series_df)\n",
    "time_series_df = time_series_df.T\n",
    "time_series_df= time_series_df.astype(float)"
   ]
  },
  {
   "cell_type": "code",
   "execution_count": 57,
   "metadata": {},
   "outputs": [],
   "source": [
    "scaler = MinMaxScaler()\n",
    "time_series_df_scaled = scaler.fit_transform(time_series_df)"
   ]
  },
  {
   "cell_type": "code",
   "execution_count": 58,
   "metadata": {},
   "outputs": [],
   "source": [
    "X,y = [], []\n",
    "for i in range(1, len(time_series_df_scaled)):\n",
    "    X.append(time_series_df_scaled[i - 1, :])\n",
    "    y.append(time_series_df_scaled[i, 0])  # Predicting the first column (2022)\n",
    "\n",
    "X, y = np.array(X), np.array(y)"
   ]
  },
  {
   "cell_type": "code",
   "execution_count": 59,
   "metadata": {},
   "outputs": [],
   "source": [
    "X = np.reshape(X, (X.shape[0], 1, X.shape[1]))"
   ]
  },
  {
   "cell_type": "code",
   "execution_count": 60,
   "metadata": {},
   "outputs": [],
   "source": [
    "X_train, X_test, y_train, y_test = train_test_split(X, y, test_size=0.2, random_state=42)"
   ]
  },
  {
   "cell_type": "code",
   "execution_count": 61,
   "metadata": {},
   "outputs": [],
   "source": [
    "model = Sequential()\n",
    "model.add(LSTM(units=50, input_shape=(X.shape[1], X.shape[2])))\n",
    "model.add(Dense(units=1))"
   ]
  },
  {
   "cell_type": "code",
   "execution_count": 62,
   "metadata": {},
   "outputs": [],
   "source": [
    "model.compile(optimizer='adam', loss='mean_squared_error')"
   ]
  },
  {
   "cell_type": "code",
   "execution_count": 65,
   "metadata": {},
   "outputs": [
    {
     "name": "stdout",
     "output_type": "stream",
     "text": [
      "Epoch 1/50\n",
      "2/2 [==============================] - 0s 48ms/step - loss: 0.0089 - val_loss: 0.0195\n",
      "Epoch 2/50\n",
      "2/2 [==============================] - 0s 20ms/step - loss: 0.0087 - val_loss: 0.0201\n",
      "Epoch 3/50\n",
      "2/2 [==============================] - 0s 18ms/step - loss: 0.0086 - val_loss: 0.0217\n",
      "Epoch 4/50\n",
      "2/2 [==============================] - 0s 17ms/step - loss: 0.0084 - val_loss: 0.0214\n",
      "Epoch 5/50\n",
      "2/2 [==============================] - 0s 17ms/step - loss: 0.0083 - val_loss: 0.0203\n",
      "Epoch 6/50\n",
      "2/2 [==============================] - 0s 18ms/step - loss: 0.0082 - val_loss: 0.0190\n",
      "Epoch 7/50\n",
      "2/2 [==============================] - 0s 22ms/step - loss: 0.0082 - val_loss: 0.0221\n",
      "Epoch 8/50\n",
      "2/2 [==============================] - 0s 20ms/step - loss: 0.0080 - val_loss: 0.0219\n",
      "Epoch 9/50\n",
      "2/2 [==============================] - 0s 17ms/step - loss: 0.0078 - val_loss: 0.0191\n",
      "Epoch 10/50\n",
      "2/2 [==============================] - 0s 15ms/step - loss: 0.0077 - val_loss: 0.0214\n",
      "Epoch 11/50\n",
      "2/2 [==============================] - 0s 15ms/step - loss: 0.0074 - val_loss: 0.0244\n",
      "Epoch 12/50\n",
      "2/2 [==============================] - 0s 15ms/step - loss: 0.0074 - val_loss: 0.0243\n",
      "Epoch 13/50\n",
      "2/2 [==============================] - 0s 15ms/step - loss: 0.0072 - val_loss: 0.0203\n",
      "Epoch 14/50\n",
      "2/2 [==============================] - 0s 15ms/step - loss: 0.0071 - val_loss: 0.0195\n",
      "Epoch 15/50\n",
      "2/2 [==============================] - 0s 15ms/step - loss: 0.0070 - val_loss: 0.0218\n",
      "Epoch 16/50\n",
      "2/2 [==============================] - 0s 16ms/step - loss: 0.0068 - val_loss: 0.0245\n",
      "Epoch 17/50\n",
      "2/2 [==============================] - 0s 14ms/step - loss: 0.0067 - val_loss: 0.0245\n",
      "Epoch 18/50\n",
      "2/2 [==============================] - 0s 15ms/step - loss: 0.0066 - val_loss: 0.0222\n",
      "Epoch 19/50\n",
      "2/2 [==============================] - 0s 27ms/step - loss: 0.0065 - val_loss: 0.0223\n",
      "Epoch 20/50\n",
      "2/2 [==============================] - 0s 43ms/step - loss: 0.0063 - val_loss: 0.0255\n",
      "Epoch 21/50\n",
      "2/2 [==============================] - 0s 19ms/step - loss: 0.0063 - val_loss: 0.0252\n",
      "Epoch 22/50\n",
      "2/2 [==============================] - 0s 15ms/step - loss: 0.0064 - val_loss: 0.0210\n",
      "Epoch 23/50\n",
      "2/2 [==============================] - 0s 16ms/step - loss: 0.0061 - val_loss: 0.0232\n",
      "Epoch 24/50\n",
      "2/2 [==============================] - 0s 16ms/step - loss: 0.0059 - val_loss: 0.0218\n",
      "Epoch 25/50\n",
      "2/2 [==============================] - 0s 16ms/step - loss: 0.0058 - val_loss: 0.0223\n",
      "Epoch 26/50\n",
      "2/2 [==============================] - 0s 14ms/step - loss: 0.0056 - val_loss: 0.0240\n",
      "Epoch 27/50\n",
      "2/2 [==============================] - 0s 15ms/step - loss: 0.0055 - val_loss: 0.0232\n",
      "Epoch 28/50\n",
      "2/2 [==============================] - 0s 15ms/step - loss: 0.0055 - val_loss: 0.0215\n",
      "Epoch 29/50\n",
      "2/2 [==============================] - 0s 15ms/step - loss: 0.0054 - val_loss: 0.0206\n",
      "Epoch 30/50\n",
      "2/2 [==============================] - 0s 17ms/step - loss: 0.0053 - val_loss: 0.0254\n",
      "Epoch 31/50\n",
      "2/2 [==============================] - 0s 16ms/step - loss: 0.0052 - val_loss: 0.0260\n",
      "Epoch 32/50\n",
      "2/2 [==============================] - 0s 15ms/step - loss: 0.0051 - val_loss: 0.0216\n",
      "Epoch 33/50\n",
      "2/2 [==============================] - 0s 20ms/step - loss: 0.0051 - val_loss: 0.0211\n",
      "Epoch 34/50\n",
      "2/2 [==============================] - 0s 19ms/step - loss: 0.0049 - val_loss: 0.0268\n",
      "Epoch 35/50\n",
      "2/2 [==============================] - 0s 15ms/step - loss: 0.0049 - val_loss: 0.0244\n",
      "Epoch 36/50\n",
      "2/2 [==============================] - 0s 15ms/step - loss: 0.0047 - val_loss: 0.0209\n",
      "Epoch 37/50\n",
      "2/2 [==============================] - 0s 16ms/step - loss: 0.0049 - val_loss: 0.0215\n",
      "Epoch 38/50\n",
      "2/2 [==============================] - 0s 16ms/step - loss: 0.0047 - val_loss: 0.0303\n",
      "Epoch 39/50\n",
      "2/2 [==============================] - 0s 16ms/step - loss: 0.0049 - val_loss: 0.0247\n",
      "Epoch 40/50\n",
      "2/2 [==============================] - 0s 15ms/step - loss: 0.0043 - val_loss: 0.0225\n",
      "Epoch 41/50\n",
      "2/2 [==============================] - 0s 14ms/step - loss: 0.0044 - val_loss: 0.0237\n",
      "Epoch 42/50\n",
      "2/2 [==============================] - 0s 15ms/step - loss: 0.0041 - val_loss: 0.0289\n",
      "Epoch 43/50\n",
      "2/2 [==============================] - 0s 16ms/step - loss: 0.0042 - val_loss: 0.0242\n",
      "Epoch 44/50\n",
      "2/2 [==============================] - 0s 16ms/step - loss: 0.0039 - val_loss: 0.0210\n",
      "Epoch 45/50\n",
      "2/2 [==============================] - 0s 19ms/step - loss: 0.0040 - val_loss: 0.0240\n",
      "Epoch 46/50\n",
      "2/2 [==============================] - 0s 31ms/step - loss: 0.0038 - val_loss: 0.0273\n",
      "Epoch 47/50\n",
      "2/2 [==============================] - 0s 27ms/step - loss: 0.0038 - val_loss: 0.0227\n",
      "Epoch 48/50\n",
      "2/2 [==============================] - 0s 16ms/step - loss: 0.0037 - val_loss: 0.0233\n",
      "Epoch 49/50\n",
      "2/2 [==============================] - 0s 21ms/step - loss: 0.0036 - val_loss: 0.0269\n",
      "Epoch 50/50\n",
      "2/2 [==============================] - 0s 18ms/step - loss: 0.0035 - val_loss: 0.0242\n",
      "1/1 [==============================] - 0s 13ms/step - loss: 0.0242\n",
      "Test Loss: 0.024180283769965172\n"
     ]
    }
   ],
   "source": [
    "model.fit(X_train, y_train, epochs=50, batch_size=32, validation_data=(X_test, y_test))\n",
    "# Evaluate the model\n",
    "loss = model.evaluate(X_test, y_test)\n",
    "print(f\"Test Loss: {loss}\")"
   ]
  }
 ],
 "metadata": {
  "kernelspec": {
   "display_name": "Python 3",
   "language": "python",
   "name": "python3"
  },
  "language_info": {
   "codemirror_mode": {
    "name": "ipython",
    "version": 3
   },
   "file_extension": ".py",
   "mimetype": "text/x-python",
   "name": "python",
   "nbconvert_exporter": "python",
   "pygments_lexer": "ipython3",
   "version": "3.11.8"
  }
 },
 "nbformat": 4,
 "nbformat_minor": 2
}
